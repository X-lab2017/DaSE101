{
 "cells": [
  {
   "cell_type": "markdown",
   "metadata": {},
   "source": [
    "# 实验练习06 参考答案"
   ]
  },
  {
   "cell_type": "markdown",
   "metadata": {},
   "source": [
    "## 2. 读取文件并处理"
   ]
  },
  {
   "cell_type": "code",
   "execution_count": null,
   "metadata": {},
   "outputs": [],
   "source": [
    "avgChinese = 0\n",
    "avgMath = 0\n",
    "avgEnglish = 0\n",
    "stuCount = 0\n",
    "\n",
    "with open('stuGrade.csv','r') as f:\n",
    "    f.readline()  # 先跳过标题行\n",
    "    for line in f:\n",
    "        stuCount += 1\n",
    "        line = line.strip()  # 去除每行末尾的换行符\n",
    "        elements = line.split(',')\n",
    "        avgChinese += int(elements[1])\n",
    "        avgMath += int(elements[2])\n",
    "        avgEnglish += int(elements[3])\n",
    "\n",
    "avgChinese /= stuCount\n",
    "avgMath /= stuCount\n",
    "avgEnglish /= stuCount\n",
    "\n",
    "print('Average Grade of Chinese: %.2f' % avgChinese)\n",
    "print('Average Grade of Math: %.2f' % avgMath)\n",
    "print('Average Grade of English: %.2f' % avgEnglish)"
   ]
  },
  {
   "cell_type": "markdown",
   "metadata": {},
   "source": [
    "## 3. 写入文件"
   ]
  },
  {
   "cell_type": "code",
   "execution_count": null,
   "metadata": {},
   "outputs": [],
   "source": [
    "import time\n",
    "\n",
    "avgChinese = 0\n",
    "avgMath = 0\n",
    "avgEnglish = 0\n",
    "stuCount = 0\n",
    "\n",
    "with open('stuGrade.csv','r') as f:\n",
    "    f.readline()  # 先跳过标题行\n",
    "    for line in f:\n",
    "        stuCount += 1\n",
    "        line = line.strip()  # 去除每行末尾的换行符\n",
    "        elements = line.split(',')\n",
    "        avgChinese += int(elements[1])\n",
    "        avgMath += int(elements[2])\n",
    "        avgEnglish += int(elements[3])\n",
    "\n",
    "avgChinese /= stuCount\n",
    "avgMath /= stuCount\n",
    "avgEnglish /= stuCount\n",
    "\n",
    "with open('my.txt','w') as f:\n",
    "    f.write('123456 张三\\n')\n",
    "    f.write('%.2f,%.2f,%.2f\\n'%(avgChinese,avgMath,avgEnglish))\n",
    "    f.write(time.strftime(\"%Y/%m/%d %H:%M:%S\",time.localtime()) + '\\n')\n",
    "    time.sleep(2)\n",
    "    f.write(time.strftime(\"%Y/%m/%d %H:%M:%S\",time.localtime()))"
   ]
  }
 ],
 "metadata": {
  "kernelspec": {
   "display_name": "Python 3",
   "language": "python",
   "name": "python3"
  },
  "language_info": {
   "codemirror_mode": {
    "name": "ipython",
    "version": 3
   },
   "file_extension": ".py",
   "mimetype": "text/x-python",
   "name": "python",
   "nbconvert_exporter": "python",
   "pygments_lexer": "ipython3",
   "version": "3.8.5"
  }
 },
 "nbformat": 4,
 "nbformat_minor": 4
}
