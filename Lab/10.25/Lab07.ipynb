{
 "cells": [
  {
   "cell_type": "markdown",
   "metadata": {},
   "source": [
    "# 实验课 07"
   ]
  },
  {
   "cell_type": "markdown",
   "metadata": {},
   "source": [
    "## 实验7-1 Linux基本操作（下）"
   ]
  },
  {
   "cell_type": "markdown",
   "metadata": {},
   "source": [
    "* ### `cat`命令\n",
    "\n",
    "使用`cat`命令可以完整查看一个文件内的所有内容，例如\n",
    "> `cat test.txt` 可以查看test.txt文件的所有内容\n",
    "\n",
    "有的时候我们查看代码文件，最好像在IDE那样在屏幕左侧显示行号，可以帮助我们快速定位代码位置。可以在`cat`命令后加`-n`参数，例如\n",
    "> `cat -n login.py` 可以在查看文件内容的左侧显示行号（空白行也会标注行号）\n",
    "\n",
    "![cat-n](img/Lab07-1-1.png)"
   ]
  },
  {
   "cell_type": "markdown",
   "metadata": {},
   "source": [
    "* ### `more`命令\n",
    "\n",
    "有的文件很长很长，如果使用`cat`命令一是加载缓慢、二是如果我们寻找的文件内容在文件起始位置，那么我们还没来得及看到内容就被后面的内容覆盖了……这时候我们需要使用`more`命令，让文件内容先显示一屏，当我们按下键盘按键时再显示下一屏。例如\n",
    "> `more login.py`\n",
    "\n",
    "此时屏幕会暂时显示第一屏的内容，而且在最下方会出现“--More--(60%)”或者“--更多--(60%)”字样，代表当前文件内容还未显示完，已经显示60%的内容。\n",
    "\n",
    "![more](img/Lab07-1-2.png)\n",
    "\n",
    "现在我们可以按下`Enter`键，此时内容会往下显示一行；\n",
    "\n",
    "如果按下空格键，会显示下一屏的内容。\n",
    "\n",
    "如果想退出查看，可以按下`q`键，会立刻退出查看器。"
   ]
  },
  {
   "cell_type": "markdown",
   "metadata": {},
   "source": [
    "* ### `head`命令\n",
    "\n",
    "如果我们只想查看某个文件的前几行，我们可以使用`head`命令快速查看，例如\n",
    "> `head -n 7 login.py` 可以显示文件的前7行内容\n",
    ">\n",
    "> `head login.py` 如果不加`-n`参数，默认显示文件的前10行内容"
   ]
  },
  {
   "cell_type": "markdown",
   "metadata": {},
   "source": [
    "***"
   ]
  },
  {
   "cell_type": "markdown",
   "metadata": {},
   "source": [
    "## 实验7-2 NumPy库初步"
   ]
  },
  {
   "cell_type": "markdown",
   "metadata": {},
   "source": [
    "![NumPy](img/Lab07-2-1.png)\n",
    "\n",
    "NumPy(Numerical Python) 是 Python 语言的一个扩展程序库，支持大量的维度数组与矩阵运算，此外也针对数组运算提供大量的数学函数库。"
   ]
  },
  {
   "cell_type": "markdown",
   "metadata": {},
   "source": [
    "### 步骤1 安装NumPy"
   ]
  },
  {
   "cell_type": "markdown",
   "metadata": {},
   "source": [
    "我们在实验课01中已经配置好了编程环境，由于NumPy库不是Python自带的库，需要我们手动安装。幸好Anaconda提供了自动安装工具可以简单快速地安装第三方库。现在我们先安装NumPy库。\n",
    "\n",
    "在Anaconda PowerShell Prompt命令行中切换到自己的环境（如有），然后输入`conda install numpy`，根据提示（若有）按下键盘上的`y`键确认安装，conda会自动下载安装包并安装。"
   ]
  },
  {
   "cell_type": "markdown",
   "metadata": {},
   "source": [
    "### 步骤2 创建数组"
   ]
  },
  {
   "cell_type": "markdown",
   "metadata": {},
   "source": [
    "* #### 创建空数组\n",
    "\n",
    "`empty` 方法用来创建一个指定形状（shape）、数据类型（dtype）且未初始化的数组。\n",
    "\n",
    "在使用NumPy的任何方法之前别忘了导入NumPy库。"
   ]
  },
  {
   "cell_type": "code",
   "execution_count": null,
   "metadata": {},
   "outputs": [],
   "source": [
    "import numpy as np  # 通常习惯以np代指NumPy，后续调用时无需再输入过多前缀\n",
    "arr1 = np.empty((4,3),dtype=float)  # 创建一个4行3列，元素类型是浮点类型的二维数组，各元素值未知\n",
    "print(arr1)"
   ]
  },
  {
   "cell_type": "markdown",
   "metadata": {},
   "source": [
    "可以看到，数组元素的值是随机的，创建一个空数组的意义在于便于后续操作无需通过循环创建数组，可直接通过数组索引修改数组值。"
   ]
  },
  {
   "cell_type": "markdown",
   "metadata": {},
   "source": [
    "* #### 创建全0（全1）数组\n",
    "\n",
    "`zeros`和`ones`方法分别用于创建一个指定形状和数据类型的全0数组或全1数组。"
   ]
  },
  {
   "cell_type": "code",
   "execution_count": null,
   "metadata": {},
   "outputs": [],
   "source": [
    "arr2 = np.zeros(3)  # 创建一个长度为3的一维全0数组，数据类型默认为浮点型\n",
    "print(arr2)"
   ]
  },
  {
   "cell_type": "code",
   "execution_count": null,
   "metadata": {},
   "outputs": [],
   "source": [
    "arr3 = np.ones((2,2,2),dtype=int)  # 创建一个2*2*2的三维数组，数据类型为整型的全1数组\n",
    "print(arr3)"
   ]
  },
  {
   "cell_type": "markdown",
   "metadata": {},
   "source": [
    "* #### 以现有数据创建数组\n",
    "\n",
    "`array`可以以现有的列表、元组创建NumPy数组（ndarray对象）"
   ]
  },
  {
   "cell_type": "code",
   "execution_count": null,
   "metadata": {},
   "outputs": [],
   "source": [
    "data = [[1,2,3],[4,5,6],[7,8,9]]\n",
    "arr4 = np.array(data)\n",
    "print(arr4)"
   ]
  },
  {
   "cell_type": "markdown",
   "metadata": {},
   "source": [
    "* #### 从数值范围创建数组\n",
    "\n",
    "`arange`类似于Python自带的`range`方法，创建一个序列数组。"
   ]
  },
  {
   "cell_type": "code",
   "execution_count": null,
   "metadata": {},
   "outputs": [],
   "source": [
    "arr5 = np.arange(10)  # 创建 0~9 的序列数组\n",
    "arr6 = np.arange(3,7)  # 创建 3~6 的序列数组\n",
    "arr7 = np.arange(1,11,2,dtype = float)  # 创建 1~9 的步长为 2 的，数据类型为浮点型的序列数组\n",
    "print(arr5)\n",
    "print(arr6)\n",
    "print(arr7)"
   ]
  },
  {
   "cell_type": "markdown",
   "metadata": {},
   "source": [
    "* #### 创建等差数列\n",
    "\n",
    "`linspace` 函数用于创建一个一维数组，数组是一个等差数列构成的。"
   ]
  },
  {
   "cell_type": "code",
   "execution_count": null,
   "metadata": {},
   "outputs": [],
   "source": [
    "arr8 = np.linspace(1,10,10) # 创建 1~10 且包含10，等分成10个元素的一维数组\n",
    "arr9 = np.linspace(10,20,5) # 创建 10~20 且包含20，等分成5个元素的一维数组\n",
    "print(arr8)\n",
    "print(arr9)"
   ]
  },
  {
   "cell_type": "markdown",
   "metadata": {},
   "source": [
    "### 步骤3 数组操作"
   ]
  },
  {
   "cell_type": "markdown",
   "metadata": {},
   "source": [
    "* #### 查看数组属性"
   ]
  },
  {
   "cell_type": "markdown",
   "metadata": {},
   "source": [
    "一个Numpy数组的基本属性包括维度、形状和元素个数，我们查看一下上一步骤中创建的几个数组的属性信息。"
   ]
  },
  {
   "cell_type": "code",
   "execution_count": null,
   "metadata": {},
   "outputs": [],
   "source": [
    "print(\"ndim of arr3 is {}\".format(arr3.ndim))  # ndim表示数组的维度\n",
    "print(\"shape of arr4 is {}\".format(arr4.shape))  # shape表示数组的形状\n",
    "print(\"size of arr4 is {}\".format(arr4.size))  # size表示数组的元素个数"
   ]
  },
  {
   "cell_type": "markdown",
   "metadata": {},
   "source": [
    "* #### 修改数组形状\n",
    "\n",
    "`reshape`方法可以在不改变数据的前提下修改数组的形状。例如我们首先创建一个长度为24的一维数组，再将其转换为4行6列的二维数组。"
   ]
  },
  {
   "cell_type": "code",
   "execution_count": null,
   "metadata": {},
   "outputs": [],
   "source": [
    "arr10 = np.arange(24)\n",
    "print(arr10)"
   ]
  },
  {
   "cell_type": "code",
   "execution_count": null,
   "metadata": {},
   "outputs": [],
   "source": [
    "arr11 = np.reshape(arr10,(4,6))\n",
    "print(arr11)"
   ]
  },
  {
   "cell_type": "markdown",
   "metadata": {},
   "source": [
    "`transpose`方法用于翻转数组，类似于我们在线性代数中学习的矩阵的转置。"
   ]
  },
  {
   "cell_type": "code",
   "execution_count": null,
   "metadata": {},
   "outputs": [],
   "source": [
    "arr12 = np.arange(1,10).reshape((3,3))\n",
    "print(arr12)"
   ]
  },
  {
   "cell_type": "code",
   "execution_count": null,
   "metadata": {},
   "outputs": [],
   "source": [
    "arr13 = np.transpose(arr12)\n",
    "print(arr13)"
   ]
  },
  {
   "cell_type": "markdown",
   "metadata": {},
   "source": [
    "或者我们可以像表示转置矩阵那样直接使用数组的`T`方法"
   ]
  },
  {
   "cell_type": "code",
   "execution_count": null,
   "metadata": {},
   "outputs": [],
   "source": [
    "arr14 = arr12.T\n",
    "print(arr14)"
   ]
  },
  {
   "cell_type": "markdown",
   "metadata": {},
   "source": [
    "### 步骤4 简单数学操作"
   ]
  },
  {
   "cell_type": "markdown",
   "metadata": {},
   "source": [
    "在C语言中，如果想对一个数组的所有元素各自增1，我们需要编写循环逐个对数组元素操作。而在NumPy中这一切都非常简单，这都依赖内部的“广播”（Boardcast）机制完成。"
   ]
  },
  {
   "cell_type": "code",
   "execution_count": null,
   "metadata": {},
   "outputs": [],
   "source": [
    "arr15 = np.arange(5)  # 生成0-4的长度为5的一维数组\n",
    "print(arr15)\n",
    "arr15 += 1  # 我们只需简单地进行数学运算就可以对数组全部元素施加操作\n",
    "print(arr15)"
   ]
  },
  {
   "cell_type": "code",
   "execution_count": null,
   "metadata": {},
   "outputs": [],
   "source": [
    "arr16 = np.arange(9).reshape((3,3))\n",
    "print(arr16)\n",
    "arr16 *= 2\n",
    "print(arr16)"
   ]
  },
  {
   "cell_type": "markdown",
   "metadata": {},
   "source": [
    "我们还可以从统计学角度处理数据，寻找数组的最值、均值、方差等等，并且可以沿某个轴寻找统计量。"
   ]
  },
  {
   "cell_type": "code",
   "execution_count": null,
   "metadata": {},
   "outputs": [],
   "source": [
    "arr17 = np.array([[3.2, 1.7, 5.3],\n",
    "                  [2.1, -5.0 ,3.5],\n",
    "                  [7.2, 1.1, 0.3]])\n",
    "print(np.max(arr17))  # 返回数组最大值\n",
    "print(np.min(arr17,axis=0))  # 返回数组沿第0轴（也就是每一列）的最大值\n",
    "print(np.mean(arr17,axis=1))  # 返回数组沿第1轴（也就是每一行）的均值\n",
    "print(np.var(arr17))  # 返回数组所有元素的方差"
   ]
  },
  {
   "cell_type": "markdown",
   "metadata": {},
   "source": [
    "更多NumPy内容可在[菜鸟教程](https://www.runoob.com/numpy/numpy-tutorial.html)中继续学习。"
   ]
  },
  {
   "cell_type": "markdown",
   "metadata": {},
   "source": [
    "***"
   ]
  },
  {
   "cell_type": "markdown",
   "metadata": {},
   "source": [
    "## 实验7-3 Matplotlib库初步"
   ]
  },
  {
   "cell_type": "markdown",
   "metadata": {},
   "source": [
    "**Matplotlib**是Python编程语言及其数值数学扩展包 NumPy的可视化操作界面。可以作出很多精美的实验图像。\n",
    "\n",
    "![Matplotlib](img/Lab07-3-1.png)"
   ]
  },
  {
   "cell_type": "markdown",
   "metadata": {},
   "source": [
    "### 步骤1 安装Matplotlib"
   ]
  },
  {
   "cell_type": "markdown",
   "metadata": {},
   "source": [
    "Matplotlib同样是第三方库，需要我们手动安装。\n",
    "\n",
    "启动Anaconda PowerShell Prompt命令行，切换到自己的环境（如有），在命令行中输入`conda install matplotlib`，conda会自动下载并安装Matplotlib。"
   ]
  },
  {
   "cell_type": "markdown",
   "metadata": {},
   "source": [
    "### 步骤2 绘制函数图像"
   ]
  },
  {
   "cell_type": "markdown",
   "metadata": {},
   "source": [
    "我们从绘制简单的函数图像入手。"
   ]
  },
  {
   "cell_type": "code",
   "execution_count": 1,
   "metadata": {},
   "outputs": [
    {
     "data": {
      "image/png": "[encoded data removed]",
      "text/plain": [
       "<Figure size 432x288 with 1 Axes>"
      ]
     },
     "metadata": {
      "needs_background": "light"
     },
     "output_type": "display_data"
    }
   ],
   "source": [
    "import matplotlib.pyplot as plt\n",
    "import numpy as np\n",
    "import math\n",
    "\n",
    "x = np.arange(0, 4*math.pi)\n",
    "y = np.sin(x)\n",
    "\n",
    "plt.plot(x,y)\n",
    "plt.show()"
   ]
  },
  {
   "cell_type": "markdown",
   "metadata": {},
   "source": [
    "似乎图像不太“平滑”，这是因为我们的x的间隔是默认值1，Matplotlib将每对(x,y)点用直线连接起来。我们可以把`arange`方法的步长设置的小一点，重新画图。"
   ]
  },
  {
   "cell_type": "code",
   "execution_count": 2,
   "metadata": {},
   "outputs": [
    {
     "data": {
      "image/png": "[encoded data removed]",
      "text/plain": [
       "<Figure size 432x288 with 1 Axes>"
      ]
     },
     "metadata": {
      "needs_background": "light"
     },
     "output_type": "display_data"
    }
   ],
   "source": [
    "x = np.arange(0,4*math.pi,0.1)\n",
    "y = np.sin(x)\n",
    "\n",
    "plt.plot(x,y)\n",
    "plt.show()"
   ]
  },
  {
   "cell_type": "markdown",
   "metadata": {},
   "source": [
    "图像目前是平滑多了，不过能在图上添加一些注释信息帮助别人快速读懂就更好了！\n",
    "\n",
    "我们可以给图像添加：\n",
    "\n",
    "* 标题（`title`方法）\n",
    "* 坐标轴标签（`xlabel`, `ylabel`方法）\n",
    "* 图例（`legend`方法）"
   ]
  },
  {
   "cell_type": "code",
   "execution_count": 3,
   "metadata": {},
   "outputs": [
    {
     "data": {
      "image/png": "[encoded data removed]",
      "text/plain": [
       "<Figure size 432x288 with 1 Axes>"
      ]
     },
     "metadata": {
      "needs_background": "light"
     },
     "output_type": "display_data"
    }
   ],
   "source": [
    "x = np.arange(0,4*math.pi,0.1)\n",
    "y = np.sin(x)\n",
    "\n",
    "plt.plot(x,y,label='y=sin(x)')\n",
    "\n",
    "plt.title('Sine Function')\n",
    "plt.xlabel('x')\n",
    "plt.ylabel('y')\n",
    "plt.legend()\n",
    "\n",
    "plt.show()"
   ]
  },
  {
   "cell_type": "markdown",
   "metadata": {},
   "source": [
    "有的时候我们需要在同一坐标系中对比多个函数图像，也就是说绘制多条函数。例如我们在同一坐标系中绘制出$y=sin(x)$和$y=sin(2x)$的图像。"
   ]
  },
  {
   "cell_type": "code",
   "execution_count": 4,
   "metadata": {},
   "outputs": [
    {
     "data": {
      "image/png": "[encoded data removed]",
      "text/plain": [
       "<Figure size 432x288 with 1 Axes>"
      ]
     },
     "metadata": {
      "needs_background": "light"
     },
     "output_type": "display_data"
    }
   ],
   "source": [
    "x = np.arange(0,4*math.pi,0.1)\n",
    "y1 = np.sin(x)\n",
    "y2 = np.sin(2*x)\n",
    "\n",
    "plt.plot(x,y1,label='y=sin(x)')\n",
    "plt.plot(x,y2,label='y=sin(2x)')\n",
    "plt.title('Sine Function')\n",
    "plt.xlabel('x')\n",
    "plt.ylabel('y')\n",
    "plt.legend()\n",
    "\n",
    "plt.show()"
   ]
  },
  {
   "cell_type": "markdown",
   "metadata": {},
   "source": [
    "### 步骤3 绘制散点图"
   ]
  },
  {
   "cell_type": "markdown",
   "metadata": {},
   "source": [
    "我们在高中数学课上学过，如果一系列数据点的散点图近似于线性形状，则它们之间存在相关性。\n",
    "\n",
    "当然我们一开始先练习如何绘制散点图，关于线性相关性的判别我们以后再来学习。\n",
    "\n",
    "假设我们生成20个点，x的取值范围为[1,20]，y的取值范围为[1,10]，且y由随机产生的整数。"
   ]
  },
  {
   "cell_type": "code",
   "execution_count": 5,
   "metadata": {},
   "outputs": [
    {
     "data": {
      "image/png": "[encoded data removed]",
      "text/plain": [
       "<Figure size 432x288 with 1 Axes>"
      ]
     },
     "metadata": {
      "needs_background": "light"
     },
     "output_type": "display_data"
    }
   ],
   "source": [
    "import random\n",
    "\n",
    "x = np.arange(1,21)\n",
    "y = np.random.randint(1,10,size=20)\n",
    "\n",
    "plt.scatter(x,y,color='green',marker='*')\n",
    "plt.show()"
   ]
  },
  {
   "cell_type": "markdown",
   "metadata": {},
   "source": [
    "可能你会觉得默认的蓝色太难看了，要么尝试一下绿色？在`plt.scatter()`中添加一个`color`参数并设置为`'green'`，然后重新运行一下看看。\n",
    "\n",
    "厌倦了传统的圆点？再添加`marker`参数，设置为`'*'`然后重新运行一下看看。"
   ]
  },
  {
   "cell_type": "markdown",
   "metadata": {},
   "source": [
    "### 步骤4 绘制条形图"
   ]
  },
  {
   "cell_type": "markdown",
   "metadata": {},
   "source": [
    "条形图是用条形的长度表示各类别的大小，可以方便地对比各类别数量上的差别。"
   ]
  },
  {
   "cell_type": "code",
   "execution_count": 6,
   "metadata": {},
   "outputs": [
    {
     "data": {
      "image/png": "[encoded data removed]",
      "text/plain": [
       "<Figure size 432x288 with 1 Axes>"
      ]
     },
     "metadata": {
      "needs_background": "light"
     },
     "output_type": "display_data"
    }
   ],
   "source": [
    "x = np.arange(3,13)\n",
    "y = np.array([3,7,2,5,4,6,1,8,5,7])\n",
    "\n",
    "plt.bar(x,y,label='C1')\n",
    "plt.show()"
   ]
  },
  {
   "cell_type": "markdown",
   "metadata": {},
   "source": [
    "### 步骤5 绘制直方图"
   ]
  },
  {
   "cell_type": "markdown",
   "metadata": {},
   "source": [
    "频数分布直方图只需要一列的数据，绘图的x轴将表示这一列数据的种类，y轴表示该类别出现的次数。\n",
    "\n",
    "假设我们要生成1000个服从均值为500，标准差为70的正态分布的随机数（向上取整），并统计各个数字的频数并展示。"
   ]
  },
  {
   "cell_type": "code",
   "execution_count": 7,
   "metadata": {},
   "outputs": [
    {
     "data": {
      "image/png": "[encoded data removed]",
      "text/plain": [
       "<Figure size 432x288 with 1 Axes>"
      ]
     },
     "metadata": {
      "needs_background": "light"
     },
     "output_type": "display_data"
    }
   ],
   "source": [
    "import random\n",
    "import math\n",
    "import matplotlib.pyplot as plt\n",
    "\n",
    "data = []\n",
    "for i in range(1000):\n",
    "    data.append(math.ceil(random.normalvariate(500,70)))\n",
    "plt.hist(data, bins=50)  # 以50条柱状图显示\n",
    "plt.show()"
   ]
  },
  {
   "cell_type": "markdown",
   "metadata": {},
   "source": [
    "### 步骤6 创建子图"
   ]
  },
  {
   "cell_type": "markdown",
   "metadata": {},
   "source": [
    "有的时候我们不想在同一坐标系展示多个函数曲线，或者我们需要在一张图中同时展示函数曲线和散点图，这时候我们需要绘制多个“子图”。\n",
    "\n",
    "例如我们在一张大图中绘制4幅子图。"
   ]
  },
  {
   "cell_type": "code",
   "execution_count": 8,
   "metadata": {},
   "outputs": [
    {
     "data": {
      "image/png": "[encoded data removed]",
      "text/plain": [
       "<Figure size 432x288 with 4 Axes>"
      ]
     },
     "metadata": {
      "needs_background": "light"
     },
     "output_type": "display_data"
    }
   ],
   "source": [
    "import numpy as np\n",
    "import matplotlib.pyplot as plt\n",
    "\n",
    "# 画第1个图：折线图\n",
    "x=np.arange(1,100)\n",
    "plt.subplot(221)  # 2行2列，在第1张（序号从左向右从上到下递增）子图中绘制\n",
    "plt.plot(x,x*x)\n",
    "\n",
    "# 画第2个图：散点图\n",
    "plt.subplot(222)\n",
    "plt.scatter(np.arange(0,10), np.random.rand(10))\n",
    "\n",
    "# 画第3个图：饼图\n",
    "plt.subplot(223)\n",
    "plt.pie(x=[15,30,45,10],labels=list('ABCD'),autopct='%.0f',explode=[0,0.05,0,0])\n",
    "\n",
    "# 画第4个图：条形图\n",
    "plt.subplot(224)\n",
    "plt.bar([20,10,30,25,15],[25,15,35,30,20],color='b')\n",
    "\n",
    "plt.show()"
   ]
  },
  {
   "cell_type": "markdown",
   "metadata": {},
   "source": [
    "### 步骤7 保存输出图像"
   ]
  },
  {
   "cell_type": "markdown",
   "metadata": {},
   "source": [
    "输出的图像要是能保存至磁盘，日后可直接查看就更方便了。"
   ]
  },
  {
   "cell_type": "code",
   "execution_count": null,
   "metadata": {},
   "outputs": [],
   "source": [
    "import matplotlib.pyplot as plt\n",
    "import numpy as np\n",
    "\n",
    "x=np.linspace(-2*np.pi,2*np.pi,400)\n",
    "siny=np.sin(x)\n",
    "cosy=np.cos(x)\n",
    "\n",
    "plt.plot(x,siny,color=\"red\",label=\"sin(x)\")\n",
    "plt.plot(x,cosy,color=\"blue\",label=\"cos(x)\",linestyle=\"--\")\n",
    "plt.xlabel(\"x\")\n",
    "plt.ylabel(\"y\")\n",
    "plt.title(\"Sin & Cos\")\n",
    "plt.legend()\n",
    "plt.savefig('pic.png',dpi=500)"
   ]
  },
  {
   "cell_type": "markdown",
   "metadata": {},
   "source": [
    "[这里](https://matplotlib.org/gallery/index.html)有更多的精美图像示例，也提供相应源代码供大家下载学习。"
   ]
  },
  {
   "cell_type": "markdown",
   "metadata": {},
   "source": [
    "***"
   ]
  },
  {
   "cell_type": "markdown",
   "metadata": {},
   "source": [
    "## 实验练习07"
   ]
  },
  {
   "cell_type": "markdown",
   "metadata": {},
   "source": [
    "1. 在[数据学院-功夫编程平台](http://www.kfcoding.com/playground)上练习实验7-1的相关命令。"
   ]
  },
  {
   "cell_type": "markdown",
   "metadata": {},
   "source": [
    "2. `daily_KP_SUN_2020.csv` 取自[香港天文台开放数据集](https://www.hko.gov.hk/sc/abouthko/opendata_intro.htm)，该数据为香港京士柏气象监测站采集的2020年1月1日至9月30日每日日照小时数。请先用Excel或记事本预览该数据集，然后通过Python文件读取，用Matplotlib绘制出每月**总日照小时数**对比的柱状图和每月**平均日照小时数**对比的柱状图（请在画布上绘制两个子图，可左右排列也可上下排列）。\n",
    "> 注意：源数据文件最后几行含有一些注释内容，你可能需要手动删除他们。"
   ]
  },
  {
   "cell_type": "markdown",
   "metadata": {},
   "source": [
    "3. 鸢尾花数据集是机器学习和数据分析领域中常用的数据集，通过花萼长度(Sepal Length)，花萼宽度(Sepal Width)，花瓣长度(Petal Length)，花瓣宽度(Petal Width)4个属性预测鸢尾花卉属于(Setosa，Versicolour，Virginica)三个种类中的哪一类。请通过Python读取 `iris.csv` 文件，分别绘制出4个属性之间两两组合组成的6组变量组合的散点图（可在一张画布上显示2*3的子图），寻找是否可通过某两个变量可确定鸢尾花的种类。"
   ]
  }
 ],
 "metadata": {
  "kernelspec": {
   "display_name": "Python 3",
   "language": "python",
   "name": "python3"
  },
  "language_info": {
   "codemirror_mode": {
    "name": "ipython",
    "version": 3
   },
   "file_extension": ".py",
   "mimetype": "text/x-python",
   "name": "python",
   "nbconvert_exporter": "python",
   "pygments_lexer": "ipython3",
   "version": "3.8.5"
  }
 },
 "nbformat": 4,
 "nbformat_minor": 4
}
